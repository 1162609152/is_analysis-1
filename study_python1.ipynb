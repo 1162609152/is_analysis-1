{
 "cells": [
  {
   "cell_type": "markdown",
   "metadata": {
    "pycharm": {}
   },
   "source": [
    "# Python3 * 和 ** 运算符\n",
    "- *args 表示任何多个无名参数，它本质是一个 tuple\n",
    "- **kwargs 表示关键字参数，它本质上是一个 dict"
   ]
  },
  {
   "cell_type": "code",
   "execution_count": 1,
   "metadata": {
    "pycharm": {
     "is_executing": false
    }
   },
   "outputs": [
    {
     "name": "stdout",
     "output_type": "stream",
     "text": [
      "args= (1, 2, 3, 4)\nkwargs= {'A': 'a', 'B': 'b'}\nargs= (11, 22, 33)\nkwargs= {'A': 'aaa', 'B': 1, 'C': 'c'}\n"
     ]
    }
   ],
   "source": [
    "def fun(*args,**kwargs):\n",
    "    print('args=',args)\n",
    "    print('kwargs=',kwargs)\n",
    "fun(1,2,3,4,A='a',B='b')\n",
    "tuple1=(11,22,33)\n",
    "dict1=dict(A='aaa',\n",
    "           B=1,\n",
    "           C='c')\n",
    "fun(*tuple1,**dict1)"
   ]
  },
  {
   "cell_type": "markdown",
   "metadata": {
    "pycharm": {}
   },
   "source": [
    "## if ... else 单语句"
   ]
  },
  {
   "cell_type": "code",
   "execution_count": 3,
   "metadata": {
    "pycharm": {}
   },
   "outputs": [
    {
     "name": "stdout",
     "output_type": "stream",
     "text": [
      "1\n",
      "2\n"
     ]
    }
   ],
   "source": [
    "a = 1 if True else 2\n",
    "print(a)\n",
    "a = 1 if False else 2\n",
    "print(a)"
   ]
  },
  {
   "cell_type": "markdown",
   "metadata": {
    "pycharm": {}
   },
   "source": [
    "## yield\n",
    "- 首先是一个return，其次是一个生成器(generator)，生成器相当于一个对象\n",
    "- **next()**方法执行生成器\n",
    "- **send()**方法包含next()方法，但可以传参数\n",
    "- https://blog.csdn.net/mieleizhi0522/article/details/82142856\n",
    "- yield的推出可以节约内存\n",
    "- yield一般应该和for一起使用"
   ]
  },
  {
   "cell_type": "code",
   "execution_count": 4,
   "metadata": {
    "pycharm": {},
    "scrolled": true
   },
   "outputs": [
    {
     "name": "stdout",
     "output_type": "stream",
     "text": [
      "starting...\n",
      "4\n",
      "********************\n",
      "res: None\n",
      "4\n",
      "********************\n",
      "res: 7\n",
      "4\n",
      "下面的foo2定义，比rang()更节约内存\n",
      "starting...\n",
      "2\n",
      "3\n"
     ]
    }
   ],
   "source": [
    "def foo():\n",
    "    print(\"starting...\")\n",
    "    while True:\n",
    "        res = yield 4\n",
    "        print(\"res:\",res)\n",
    "#因为foo函数中有yield关键字，所以foo函数并不会真的执行，\n",
    "#而是先得到一个生成器g(相当于一个对象),这句话不会产生任何打印输出 。\n",
    "g = foo() \n",
    "print(next(g))\n",
    "print(\"*\"*20)\n",
    "print(next(g))\n",
    "print(\"*\"*20)\n",
    "print(g.send(7))\n",
    "print('下面的foo2定义，比rang()更节约内存')\n",
    "def foo2(num):\n",
    "    print(\"starting  ...\")\n",
    "    while num<10:\n",
    "        num=num+1\n",
    "        yield num\n",
    "g = foo2(1)        \n",
    "print(next(g))\n",
    "print(next(g))\n",
    "#for n in foo2(0):\n",
    "#    print(n)"
   ]
  },
  {
   "cell_type": "markdown",
   "metadata": {
    "pycharm": {}
   },
   "source": [
    "## 路径名与文件名相加"
   ]
  },
  {
   "cell_type": "code",
   "execution_count": 5,
   "metadata": {
    "pycharm": {}
   },
   "outputs": [
    {
     "name": "stdout",
     "output_type": "stream",
     "text": [
      "A/1.PNG\n",
      "A/1.PNG\n"
     ]
    }
   ],
   "source": [
    "import os\n",
    "print(os.path.join(\"A\",\"1.PNG\"))\n",
    "print(os.path.join(\"A/\",\"1.PNG\"))"
   ]
  },
  {
   "cell_type": "code",
   "execution_count": 6,
   "metadata": {
    "pycharm": {}
   },
   "outputs": [
    {
     "name": "stdout",
     "output_type": "stream",
     "text": [
      "(512, 512)\n",
      "(255, 255)\n",
      "(255, 255, 1)\n",
      "(255, 255) [[0.48204776 0.50156193 0.54005761 ... 0.61216426 0.61318066 0.62232603]\n",
      " [0.50601631 0.61117274 0.55390276 ... 0.56495923 0.56647554 0.60802518]\n",
      " [0.4084308  0.56664661 0.551146   ... 0.59368902 0.6514049  0.76602727]\n",
      " ...\n",
      " [0.74545494 0.69501544 0.62130947 ... 0.60280435 0.44522486 0.47913234]\n",
      " [0.62353367 0.65203345 0.57037885 ... 0.75818522 0.6001983  0.44465923]\n",
      " [0.59974565 0.64450342 0.57333392 ... 0.84469745 0.70940206 0.60313947]]\n",
      "(1, 255, 255) [[[0.48204776 0.50156193 0.54005761 ... 0.61216426 0.61318066 0.62232603]\n",
      "  [0.50601631 0.61117274 0.55390276 ... 0.56495923 0.56647554 0.60802518]\n",
      "  [0.4084308  0.56664661 0.551146   ... 0.59368902 0.6514049  0.76602727]\n",
      "  ...\n",
      "  [0.74545494 0.69501544 0.62130947 ... 0.60280435 0.44522486 0.47913234]\n",
      "  [0.62353367 0.65203345 0.57037885 ... 0.75818522 0.6001983  0.44465923]\n",
      "  [0.59974565 0.64450342 0.57333392 ... 0.84469745 0.70940206 0.60313947]]]\n"
     ]
    }
   ],
   "source": [
    "import skimage.io as io\n",
    "import numpy as np\n",
    "import skimage.transform as trans\n",
    "img=io.imread(os.path.join(\"data/membrane/train/image/\",\"0.png\"))\n",
    "print(np.shape(img))\n",
    "img = img/255\n",
    "img = trans.resize(img, (255,255))\n",
    "print(np.shape(img))\n",
    "print(np.shape(img)+(1,))\n",
    "\n",
    "img2 = np.reshape(img,(1,255,255))\n",
    "print(np.shape(img),img)\n",
    "print(np.shape(img2),img2)"
   ]
  },
  {
   "cell_type": "markdown",
   "metadata": {
    "pycharm": {}
   },
   "source": [
    "## np.array shape"
   ]
  },
  {
   "cell_type": "code",
   "execution_count": 7,
   "metadata": {
    "pycharm": {},
    "slideshow": {
     "slide_type": "-"
    }
   },
   "outputs": [
    {
     "name": "stdout",
     "output_type": "stream",
     "text": [
      "<class 'list'> (6,) [1, 2, 3, 4, 5, 6]\n",
      "<class 'numpy.ndarray'> (6,) [1 2 3 4 5 6]\n",
      "<class 'numpy.ndarray'> (1, 6) [[1 2 3 4 5 6]]\n",
      "<class 'numpy.ndarray'> (2, 3) \n",
      " [[1 2 3]\n",
      " [4 5 6]]\n",
      "<class 'numpy.ndarray'> (1, 2, 3) \n",
      " [[[1 2 3]\n",
      "  [4 5 6]]]\n",
      "<class 'numpy.ndarray'> (2, 3, 1) \n",
      " [[[1]\n",
      "  [2]\n",
      "  [3]]\n",
      "\n",
      " [[4]\n",
      "  [5]\n",
      "  [6]]]\n",
      "取第1个维度的第2个成员，后面的所有维度 <class 'numpy.ndarray'> (3, 1) \n",
      " [[4]\n",
      " [5]\n",
      " [6]]\n",
      "取第1个维度全部，取第2个维度的第2个，取第3个维度全部 <class 'numpy.ndarray'> (2, 1) \n",
      " [[2]\n",
      " [5]]\n",
      "取第1个维度全部，取第2个维度的第2个及之后的所有维度，取第3个维度全部 <class 'numpy.ndarray'> (2, 2, 1) \n",
      " [[[2]\n",
      "  [3]]\n",
      "\n",
      " [[5]\n",
      "  [6]]]\n",
      "取第1个维度全部，取第2个维度的第2个及之后的所有维度，取第3个维度的第1个数 <class 'numpy.ndarray'> (2, 2) \n",
      " [[2 3]\n",
      " [5 6]]\n",
      "取第1个维度全部，取第2个维度全部，取第3个维度的第1个数 <class 'numpy.ndarray'> (2, 3) \n",
      " [[1 2 3]\n",
      " [4 5 6]]\n",
      "1维数组 (2,) [2 5]\n",
      "2维数组 (1, 2) [[2 5]]\n",
      "3维数组 (1, 1, 2) [[[2 5]]]\n"
     ]
    }
   ],
   "source": [
    "s1 = [1,2,3,4,5,6]\n",
    "print(type(s1),np.shape(s1),s1)\n",
    "s2 = np.reshape(s1,(6))\n",
    "print(type(s2),np.shape(s2),s2)\n",
    "s2 = np.reshape(s1,(1,6))\n",
    "print(type(s2),np.shape(s2),s2)\n",
    "s2 = np.reshape(s1,[2,3])\n",
    "print(type(s2),np.shape(s2),'\\n',s2)\n",
    "s2 = np.reshape(s1,[1,2,3])\n",
    "print(type(s2),np.shape(s2),'\\n',s2)\n",
    "\n",
    "s2 = np.reshape(s1,[2,3,1])\n",
    "print(type(s2),np.shape(s2),'\\n',s2)\n",
    "s20=s2[1,:,:]\n",
    "print('取第1个维度的第2个成员，后面的所有维度',type(s20),np.shape(s20),'\\n',s20)\n",
    "s20=s2[:,1,:]\n",
    "print('取第1个维度全部，取第2个维度的第2个，取第3个维度全部',type(s20),np.shape(s20),'\\n',s20)\n",
    "s20=s2[:,1:,:]\n",
    "print('取第1个维度全部，取第2个维度的第2个及之后的所有维度，取第3个维度全部',type(s20),np.shape(s20),'\\n',s20)\n",
    "s20=s2[:,1:,0]\n",
    "print('取第1个维度全部，取第2个维度的第2个及之后的所有维度，取第3个维度的第1个数',type(s20),np.shape(s20),'\\n',s20)\n",
    "\n",
    "s20=s2[:,:,0]\n",
    "print('取第1个维度全部，取第2个维度全部，取第3个维度的第1个数',type(s20),np.shape(s20),'\\n',s20)\n",
    "\n",
    "\n",
    "ss = np.array([2,5])\n",
    "print('1维数组',np.shape(ss),ss)\n",
    "ss = np.array([[2,5]])\n",
    "print('2维数组',np.shape(ss),ss)\n",
    "ss = np.array([[[2,5]]])\n",
    "print('3维数组',np.shape(ss),ss)\n"
   ]
  },
  {
   "cell_type": "markdown",
   "metadata": {
    "pycharm": {}
   },
   "source": [
    "## enumerate\n",
    "- enumerate 返回**序号**和对象"
   ]
  },
  {
   "cell_type": "code",
   "execution_count": 8,
   "metadata": {
    "pycharm": {}
   },
   "outputs": [
    {
     "name": "stdout",
     "output_type": "stream",
     "text": [
      "0 a\n",
      "1 b\n",
      "2 c\n"
     ]
    }
   ],
   "source": [
    "a=['a','b','c']\n",
    "for i,c in enumerate(a):\n",
    "    print(i,c)"
   ]
  },
  {
   "cell_type": "code",
   "execution_count": 91,
   "metadata": {
    "pycharm": {}
   },
   "outputs": [
    {
     "name": "stdout",
     "output_type": "stream",
     "text": [
      "(3, 3)\n",
      "(3, 3)\n",
      "[[ 1  2  3]\n",
      " [11 12 13]\n",
      " [21 22 23]]\n",
      "[[ 1 31 31]\n",
      " [11 32 32]\n",
      " [21 33 33]]\n"
     ]
    }
   ],
   "source": [
    "ar1 = np.array([[1,2,3],\n",
    "             [4,5,6],\n",
    "             [7,8,9]])\n",
    "print(np.shape(ar1))\n",
    "ar1[1:, :]=[[11,12,13],[21,22,23]]\n",
    "print(np.shape(ar1))\n",
    "print(ar1)\n",
    "#ar1[:, :]=[31,32,33] #替换所有行，每行都是[31,32,33]\n",
    "#ar1[(0,2), :]=[31,32,33] #替换1,3两行行，每行都是[31,32,33]\n",
    "#ar1[True,:]=[31,32,33] #同ar1[:, :]\n",
    "#ar1[False,:]=[31,32,33] #条件为False，不作任何替换\n",
    "\n",
    "ar1[:,(1,2)]=[[31],[32],[33]]  #替换第2列和第3列，每列都是[[31],[32],[33]]\n",
    "\n",
    "print(ar1)\n"
   ]
  },
  {
   "cell_type": "markdown",
   "metadata": {
    "pycharm": {}
   },
   "source": [
    "## np.array的附值以及连等运算符 ==\n",
    "- 连等运算符 == 作用是把数组里等于右边数值的地方设置为True，不等于的设置为False，结果是只有True，False的数组"
   ]
  },
  {
   "cell_type": "code",
   "execution_count": 151,
   "metadata": {
    "pycharm": {}
   },
   "outputs": [
    {
     "name": "stdout",
     "output_type": "stream",
     "text": [
      "[[1 2 3]\n",
      " [4 1 6]\n",
      " [3 9 9]]\n",
      "第1行，第3行的值是\n",
      " [[1 2 3]\n",
      " [3 9 9]]\n",
      "第1行，第3行设置为7,7,7=\n",
      " [[7 7 7]\n",
      " [4 1 6]\n",
      " [7 7 7]]\n",
      "第1行，第3行设置为3,2,5=\n",
      " [[3 2 5]\n",
      " [4 1 6]\n",
      " [3 2 5]]\n",
      "(2, 2, 3)\n",
      "[[[1 2 3]\n",
      "  [4 1 6]]\n",
      "\n",
      " [[4 1 5]\n",
      "  [1 7 9]]]\n",
      "ab[0,1,:]= [4 1 6]\n",
      "==运算结果\n",
      " [[ True False]\n",
      " [ True False]]\n",
      "数组赋值后：\n",
      " [[[0 0 0]\n",
      "  [4 1 6]]\n",
      "\n",
      " [[0 0 0]\n",
      "  [1 7 9]]]\n"
     ]
    }
   ],
   "source": [
    "aaa=np.array([[1,2,3],[4,1,6],[3,9,9]])\n",
    "print(aaa)\n",
    "print('第1行，第3行的值是\\n',aaa[[True,False,True],:])\n",
    "aaa[[True,False,True],:]=7\n",
    "print(\"第1行，第3行设置为7,7,7=\\n\",aaa)\n",
    "aaa[[True,False,True],:]=[3,2,5]\n",
    "print(\"第1行，第3行设置为3,2,5=\\n\",aaa)\n",
    "\n",
    "ab = np.array([[[1,2,3],[4,1,6]],[[4,1,5],[1,7,9]]]) # shape:(2, 2, 3)\n",
    "cd = np.array([[   1,       0  ],[     1,    0   ]]) # shape:(2, 2)\n",
    "#结果：       [[[0,0,0],[4,1,6]],[[0,0,0],[1,7,9]]]\n",
    "\n",
    "print(np.shape(ab))\n",
    "print(ab)\n",
    "print(\"ab[0,1,:]=\",ab[0,1,:]) #[4,1,6]\n",
    "print(\"==运算结果\\n\",cd ==1)\n",
    "ab[cd == 1,:]=[0,0,0]\n",
    "print(\"数组赋值后：\\n\",ab)"
   ]
  },
  {
   "cell_type": "code",
   "execution_count": null,
   "metadata": {
    "pycharm": {}
   },
   "outputs": [],
   "source": []
  },
  {
   "cell_type": "code",
   "execution_count": null,
   "metadata": {
    "pycharm": {}
   },
   "outputs": [],
   "source": []
  }
 ],
 "metadata": {
  "kernelspec": {
   "display_name": "Python 3",
   "language": "python",
   "name": "python3"
  },
  "language_info": {
   "codemirror_mode": {
    "name": "ipython",
    "version": 3
   },
   "file_extension": ".py",
   "mimetype": "text/x-python",
   "name": "python",
   "nbconvert_exporter": "python",
   "pygments_lexer": "ipython3",
   "version": "3.6.8"
  }
 },
 "nbformat": 4,
 "nbformat_minor": 2
}
